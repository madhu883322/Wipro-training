{
 "cells": [
  {
   "cell_type": "code",
   "execution_count": null,
   "id": "14ad2ede",
   "metadata": {
    "vscode": {
     "languageId": "plaintext"
    }
   },
   "outputs": [],
   "source": [
    "# Create two dimensional 3×3 array and perform ndim, shape, slicing operation on it."
   ]
  },
  {
   "cell_type": "code",
   "execution_count": null,
   "id": "7fa7dab2",
   "metadata": {
    "vscode": {
     "languageId": "plaintext"
    }
   },
   "outputs": [],
   "source": [
    "import numpy as np"
   ]
  },
  {
   "cell_type": "code",
   "execution_count": null,
   "id": "354ce7bc",
   "metadata": {
    "vscode": {
     "languageId": "plaintext"
    }
   },
   "outputs": [],
   "source": [
    "arr = np.array([[1, 2, 3],\n",
    "                [4, 5, 6],\n",
    "                [7, 8, 9]])\n",
    "\n",
    "print(\"ndim:\", arr.ndim)\n",
    "print(\"shape:\", arr.shape)\n",
    "\n",
    "print(\"First row:\", arr[0, :])\n",
    "print(\"Second column:\", arr[:, 1])"
   ]
  },
  {
   "cell_type": "markdown",
   "id": "7590f735",
   "metadata": {},
   "source": [
    "#  Create one dimensional array and perform ndim, shape, reshape operation on it."
   ]
  },
  {
   "cell_type": "code",
   "execution_count": null,
   "id": "b3fd3d8f",
   "metadata": {
    "vscode": {
     "languageId": "plaintext"
    }
   },
   "outputs": [],
   "source": [
    "import numpy as np\n",
    "\n",
    "arr = np.array([1, 2, 3, 4, 5, 6])\n",
    "print(\"ndim:\", arr.ndim)\n",
    "print(\"shape:\", arr.shape)\n",
    "reshaped = arr.reshape(2, 3)\n",
    "print(\"Reshaped to 2x3:\\n\", reshaped)\n"
   ]
  }
 ],
 "metadata": {
  "language_info": {
   "name": "python"
  }
 },
 "nbformat": 4,
 "nbformat_minor": 5
}
