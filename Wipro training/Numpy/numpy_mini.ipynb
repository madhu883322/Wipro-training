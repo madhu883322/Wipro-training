{
 "cells": [
  {
   "cell_type": "code",
   "execution_count": null,
   "id": "87d0653b",
   "metadata": {},
   "outputs": [],
   "source": [
    "import pandas as pd\n",
    "import numpy as np\n",
    "import matplotlib.pyplot as plt\n",
    "import seaborn as sns"
   ]
  },
  {
   "cell_type": "code",
   "execution_count": null,
   "id": "1958e8bc",
   "metadata": {},
   "outputs": [],
   "source": [
    "df = pd.read_csv('datasetExample.csv')\n",
    "df.head()"
   ]
  },
  {
   "cell_type": "code",
   "execution_count": null,
   "id": "741494e9",
   "metadata": {},
   "outputs": [],
   "source": [
    "df.info()"
   ]
  },
  {
   "cell_type": "code",
   "execution_count": null,
   "id": "09b40ba3",
   "metadata": {},
   "outputs": [],
   "source": [
    "df.describe()"
   ]
  },
  {
   "cell_type": "code",
   "execution_count": null,
   "id": "ce16370c",
   "metadata": {},
   "outputs": [],
   "source": [
    "sns.boxplot(data=df)\n",
    "plt.show()"
   ]
  },
  {
   "cell_type": "code",
   "execution_count": null,
   "id": "31f9b737",
   "metadata": {},
   "outputs": [],
   "source": [
    "Q1 = df.quantile(0.25)\n",
    "Q3 = df.quantile(0.75)\n",
    "IQR = Q3 - Q1\n",
    "\n",
    "outliers_iqr = ((df < (Q1 - 1.5 * IQR)) | (df > (Q3 + 1.5 * IQR)))"
   ]
  },
  {
   "cell_type": "code",
   "execution_count": null,
   "id": "077ee7ea",
   "metadata": {},
   "outputs": [],
   "source": [
    "outliers_iqr.sum()"
   ]
  },
  {
   "cell_type": "code",
   "execution_count": null,
   "id": "eef37139",
   "metadata": {},
   "outputs": [],
   "source": [
    "# Z-Score Method"
   ]
  },
  {
   "cell_type": "code",
   "execution_count": null,
   "id": "3418650f",
   "metadata": {},
   "outputs": [],
   "source": [
    "from scipy import stats"
   ]
  },
  {
   "cell_type": "code",
   "execution_count": null,
   "id": "05e13824",
   "metadata": {},
   "outputs": [],
   "source": [
    "z_scores = np.abs(stats.zscore(df.select_dtypes(include=[np.number])))\n",
    "outliers_z = (z_scores > 3)\n",
    "outliers_z.sum()"
   ]
  }
 ],
 "metadata": {
  "language_info": {
   "name": "python"
  }
 },
 "nbformat": 4,
 "nbformat_minor": 5
}
