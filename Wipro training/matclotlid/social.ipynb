{
 "cells": [
  {
   "cell_type": "code",
   "execution_count": null,
   "id": "c16eee37",
   "metadata": {},
   "outputs": [],
   "source": [
    "import pandas as pd\n",
    "import matplotlib.pyplot as plt\n",
    "import seaborn as sns"
   ]
  },
  {
   "cell_type": "code",
   "execution_count": null,
   "id": "b0139990",
   "metadata": {},
   "outputs": [],
   "source": [
    "df = pd.read_csv('Social_Network_Ads.csv')\n",
    "df.head()"
   ]
  },
  {
   "cell_type": "code",
   "execution_count": null,
   "id": "c1a3411b",
   "metadata": {},
   "outputs": [],
   "source": [
    "df.info()"
   ]
  },
  {
   "cell_type": "code",
   "execution_count": null,
   "id": "c2a9b002",
   "metadata": {},
   "outputs": [],
   "source": [
    "df.describe()"
   ]
  },
  {
   "cell_type": "code",
   "execution_count": null,
   "id": "8fec75fb",
   "metadata": {},
   "outputs": [],
   "source": [
    "df.isnull().sum()"
   ]
  },
  {
   "cell_type": "code",
   "execution_count": null,
   "id": "c00d5f8c",
   "metadata": {},
   "outputs": [],
   "source": [
    "sns.histplot(df['Age'], kde=True)"
   ]
  },
  {
   "cell_type": "code",
   "execution_count": null,
   "id": "b3c005e2",
   "metadata": {},
   "outputs": [],
   "source": [
    "sns.histplot(df['EstimatedSalary'], kde=True)"
   ]
  },
  {
   "cell_type": "code",
   "execution_count": null,
   "id": "2f58c590",
   "metadata": {},
   "outputs": [],
   "source": [
    "sns.countplot(x='Purchased', data=df)"
   ]
  },
  {
   "cell_type": "code",
   "execution_count": null,
   "id": "e49966d7",
   "metadata": {},
   "outputs": [],
   "source": [
    "sns.scatterplot(x='Age', y='EstimatedSalary', hue='Purchased', data=df)"
   ]
  },
  {
   "cell_type": "code",
   "execution_count": null,
   "id": "425fbc55",
   "metadata": {},
   "outputs": [],
   "source": [
    "sns.pairplot(df, hue='Purchased')"
   ]
  },
  {
   "cell_type": "code",
   "execution_count": null,
   "id": "abb98aac",
   "metadata": {},
   "outputs": [],
   "source": [
    "plt.figure(figsize=(10,8))\n",
    "sns.heatmap(df.corr(), annot=True, cmap='coolwarm')\n",
    "plt.show()"
   ]
  }
 ],
 "metadata": {
  "language_info": {
   "name": "python"
  }
 },
 "nbformat": 4,
 "nbformat_minor": 5
}
